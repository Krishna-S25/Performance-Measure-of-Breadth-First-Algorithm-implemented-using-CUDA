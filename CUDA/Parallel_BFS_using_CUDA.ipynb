{
  "nbformat": 4,
  "nbformat_minor": 0,
  "metadata": {
    "colab": {
      "provenance": [],
      "gpuType": "T4"
    },
    "kernelspec": {
      "name": "python3",
      "display_name": "Python 3"
    },
    "language_info": {
      "name": "python"
    },
    "accelerator": "GPU"
  },
  "cells": [
    {
      "cell_type": "code",
      "execution_count": 2,
      "metadata": {
        "colab": {
          "base_uri": "https://localhost:8080/"
        },
        "id": "j1dQR0A6Y9wV",
        "outputId": "6be2f5a7-e2cf-4bd0-f39a-4e870a5e08af"
      },
      "outputs": [
        {
          "output_type": "stream",
          "name": "stdout",
          "text": [
            "nvcc: NVIDIA (R) Cuda compiler driver\n",
            "Copyright (c) 2005-2022 NVIDIA Corporation\n",
            "Built on Wed_Sep_21_10:33:58_PDT_2022\n",
            "Cuda compilation tools, release 11.8, V11.8.89\n",
            "Build cuda_11.8.r11.8/compiler.31833905_0\n"
          ]
        }
      ],
      "source": [
        "!nvcc --version"
      ]
    },
    {
      "cell_type": "code",
      "source": [
        "!pip install git+https://github.com/andreinechaev/nvcc4jupyter.git"
      ],
      "metadata": {
        "colab": {
          "base_uri": "https://localhost:8080/"
        },
        "id": "buLE_RTLZGxs",
        "outputId": "d65d28d5-048c-49cc-ee6a-38838cc51575"
      },
      "execution_count": 3,
      "outputs": [
        {
          "output_type": "stream",
          "name": "stdout",
          "text": [
            "Looking in indexes: https://pypi.org/simple, https://us-python.pkg.dev/colab-wheels/public/simple/\n",
            "Collecting git+https://github.com/andreinechaev/nvcc4jupyter.git\n",
            "  Cloning https://github.com/andreinechaev/nvcc4jupyter.git to /tmp/pip-req-build-mtxt32aw\n",
            "  Running command git clone --filter=blob:none --quiet https://github.com/andreinechaev/nvcc4jupyter.git /tmp/pip-req-build-mtxt32aw\n",
            "  Resolved https://github.com/andreinechaev/nvcc4jupyter.git to commit aac710a35f52bb78ab34d2e52517237941399eff\n",
            "  Preparing metadata (setup.py) ... \u001b[?25l\u001b[?25hdone\n",
            "Building wheels for collected packages: NVCCPlugin\n",
            "  Building wheel for NVCCPlugin (setup.py) ... \u001b[?25l\u001b[?25hdone\n",
            "  Created wheel for NVCCPlugin: filename=NVCCPlugin-0.0.2-py3-none-any.whl size=4287 sha256=3bd2250f0fb8df345929e03ac3d37b8fb57bea7cc1120cb6c8ca210560e30263\n",
            "  Stored in directory: /tmp/pip-ephem-wheel-cache-m8imymh8/wheels/a8/b9/18/23f8ef71ceb0f63297dd1903aedd067e6243a68ea756d6feea\n",
            "Successfully built NVCCPlugin\n",
            "Installing collected packages: NVCCPlugin\n",
            "Successfully installed NVCCPlugin-0.0.2\n"
          ]
        }
      ]
    },
    {
      "cell_type": "code",
      "source": [
        "%load_ext nvcc_plugin"
      ],
      "metadata": {
        "colab": {
          "base_uri": "https://localhost:8080/"
        },
        "id": "kXaMWHfgZG5w",
        "outputId": "fdd82b92-cf3b-49b2-ccac-1212a1bf3146"
      },
      "execution_count": 4,
      "outputs": [
        {
          "output_type": "stream",
          "name": "stdout",
          "text": [
            "created output directory at /content/src\n",
            "Out bin /content/result.out\n"
          ]
        }
      ]
    },
    {
      "cell_type": "code",
      "source": [
        "%reload_ext nvcc_plugin"
      ],
      "metadata": {
        "colab": {
          "base_uri": "https://localhost:8080/"
        },
        "id": "c1JwheUNahVY",
        "outputId": "7d5d8639-5f13-4d6e-d2f7-aa8fefd22b72"
      },
      "execution_count": 14,
      "outputs": [
        {
          "output_type": "stream",
          "name": "stdout",
          "text": [
            "directory /content/src already exists\n",
            "Out bin /content/result.out\n"
          ]
        }
      ]
    },
    {
      "cell_type": "code",
      "source": [
        "%%cu\n",
        "\n",
        "#include <cuda_runtime.h>\n",
        "#include <cstdio>\n",
        "#include <stdio.h>\n",
        "#include <stdlib.h>\n",
        "#define N 10\n",
        "\n",
        "__global__ void bfs(int* graph, bool* visited, int* queue, int start, int numVertices) {\n",
        "    int queueStart = 0;\n",
        "    int queueEnd = 0;\n",
        "    queue[queueEnd++] = start;\n",
        "    visited[start] = true;\n",
        "\n",
        "    while (queueStart < queueEnd) \n",
        "    {\n",
        "        int currVertex = queue[queueStart++];\n",
        "        for (int neighbor = 0; neighbor < numVertices; neighbor++) {\n",
        "            if (graph[currVertex * numVertices + neighbor] && !visited[neighbor]) {\n",
        "                visited[neighbor] = true;\n",
        "                queue[queueEnd++] = neighbor;\n",
        "            }\n",
        "        }\n",
        "    }\n",
        "}\n",
        "int main() {\n",
        "    \n",
        "    //time\n",
        "     cudaEvent_t start, stop;\n",
        "    float elapsedTime;\n",
        "\n",
        "    cudaEventCreate(&start);\n",
        "    cudaEventCreate(&stop);\n",
        "\n",
        "    cudaEventRecord(start, 0);\n",
        "    int numVertices = N;\n",
        "    int graph[N][N] = \n",
        "\n",
        "{{0, 1, 1, 1, 0, 1, 0, 0, 0, 0}, \n",
        "{1, 0, 1, 1, 0, 0, 0, 0, 1, 0},  \n",
        "{1, 1, 0, 0, 1, 1, 0, 1, 0, 0},\n",
        "{1, 1, 0, 0, 1, 1, 0, 0, 0, 0}, \n",
        "{0, 0, 1, 1, 0, 0, 1, 1, 0, 1},\n",
        "{1, 0, 1, 1, 0, 0, 1, 1, 0, 0}, \n",
        "{0, 0, 0, 0, 1, 1, 0, 1, 1, 0},\n",
        "{0, 0, 1, 0, 1, 1, 1, 0, 1, 1}, \n",
        "{0, 1, 0, 0, 0, 0, 1, 1, 0, 1},\n",
        "{0, 0, 0, 0, 1, 0, 0, 1, 1, 0}}\n",
        ";\n",
        "    bool visited[N] = {false};\n",
        "   int queue[N];\n",
        "\n",
        "    int startVertex = 2;\n",
        "\n",
        "    int* devGraph;\n",
        "    bool* devVisited;\n",
        "    int* devQueue;\n",
        "\n",
        "    cudaMalloc((void**)&devGraph, numVertices*numVertices*sizeof(int));\n",
        "    cudaMalloc((void**)&devVisited, numVertices*sizeof(bool));\n",
        "    cudaMalloc((void**)&devQueue, numVertices*sizeof(int));\n",
        "\n",
        "    cudaMemcpy(devGraph, graph, numVertices*numVertices*sizeof(int), cudaMemcpyHostToDevice);\n",
        "    cudaMemcpy(devVisited, visited, numVertices*sizeof(bool), cudaMemcpyHostToDevice);\n",
        "    cudaMemcpy(devQueue, queue, numVertices*sizeof(int), cudaMemcpyHostToDevice);\n",
        "    \n",
        "    /* varying threads */\n",
        "    bfs<<<1 , numVertices>>>(devGraph, devVisited, devQueue, startVertex, numVertices);\n",
        "\n",
        "    cudaMemcpy(visited, devVisited, numVertices*sizeof(bool), cudaMemcpyDeviceToHost);\n",
        "    cudaMemcpy(queue, devQueue, numVertices*sizeof(int), cudaMemcpyDeviceToHost);\n",
        "\n",
        "    cudaError_t err = cudaMemcpy(queue, devQueue, numVertices*sizeof(int), cudaMemcpyDeviceToHost);\n",
        "    if (err != cudaSuccess) {\n",
        "      printf(\"CUDA error: %s\\n\", cudaGetErrorString(err));\n",
        "      }\n",
        "\n",
        "/*\n",
        "    printf(\"\\n\\nOrder of traversal of cities within a particular distance :\\n\");\n",
        "     for(int i=0;i<N;i++)\n",
        "    {\n",
        "        printf(\" %d \",queue[i]);\n",
        "    }\n",
        "\n",
        "    */\n",
        "\n",
        "    cudaFree(devGraph);\n",
        "    cudaFree(devVisited);\n",
        "    cudaFree(devQueue);\n",
        "\n",
        "    //time \n",
        "    cudaEventRecord(stop, 0);\n",
        "    cudaEventSynchronize(stop);\n",
        "\n",
        "    cudaEventElapsedTime(&elapsedTime, start, stop);\n",
        "\n",
        "    printf(\"\\n\\nTime taken for exploring %d cities in the graph : %f in milliseconds \\n\", N,elapsedTime);\n",
        "\n",
        "    cudaEventDestroy(start);\n",
        "    cudaEventDestroy(stop);\n",
        "\n",
        "    return 0;\n",
        "}\n"
      ],
      "metadata": {
        "colab": {
          "base_uri": "https://localhost:8080/"
        },
        "id": "YKcxBOW3ZK7R",
        "outputId": "fa32e86b-234b-46d0-9553-60896a3958b7"
      },
      "execution_count": 7,
      "outputs": [
        {
          "output_type": "stream",
          "name": "stdout",
          "text": [
            "\n",
            "\n",
            "Time taken for exploring 10 cities in the graph : 0.292768 in milliseconds \n",
            "\n"
          ]
        }
      ]
    }
  ]
}