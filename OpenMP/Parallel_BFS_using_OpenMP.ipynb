{
  "nbformat": 4,
  "nbformat_minor": 0,
  "metadata": {
    "colab": {
      "provenance": []
    },
    "kernelspec": {
      "name": "python3",
      "display_name": "Python 3"
    },
    "language_info": {
      "name": "python"
    }
  },
  "cells": [
    {
      "cell_type": "code",
      "execution_count": 4,
      "metadata": {
        "colab": {
          "base_uri": "https://localhost:8080/"
        },
        "id": "1IMM2ryA1zXI",
        "outputId": "caff7adf-824e-4538-bcd9-ef179c55519a"
      },
      "outputs": [
        {
          "output_type": "stream",
          "name": "stdout",
          "text": [
            "Time taken for exploring 15 vertices in the graph :0.000724  seconds"
          ]
        }
      ],
      "source": [
        "code = \"\"\"\n",
        "#include<stdio.h>\n",
        "#include \"omp.h\"\n",
        "#define N 15\n",
        "double start_time ,end_time ;\n",
        "\n",
        "int q[1000]; // array \n",
        "int visited[N]; //visited array for the vertices in the graph\n",
        "\n",
        "\n",
        "void bfs(int adj_matrix[N][N], int first, int last, int q[], int n_nodes)\n",
        "{\n",
        "  //check whether first node is visited again or not\n",
        "\t\tif(first==last)\n",
        "\t\t\treturn;\n",
        "\n",
        "\t\t//pop first element\n",
        "\t\tint cur_node = q[first++];\n",
        "\t\t//printing the current node\n",
        "\t\t//printf(\"%d, \", cur_node);\n",
        "  \t// varying the threads using omp_set_nuj_threads() function\t\n",
        "      omp_set_num_threads(5);\n",
        "\t\t\n",
        "\t\t\n",
        "\t\t#pragma omp parallel for shared(visited)\n",
        "\t\tfor(int i=0; i<n_nodes; i++)\n",
        "\t\t{\n",
        "\t\t\tif(adj_matrix[cur_node][i]==1 && visited[i]==0)\n",
        "\t\t\t{\n",
        "\t\t\t\tq[last++] = i;\n",
        "\t\t\t\tvisited[i]=1;\n",
        "\t\t\t}\n",
        "\t\t}\n",
        "    //call the bfs() function recursively\n",
        "\tbfs(adj_matrix, first, last, q, n_nodes);\n",
        "}\n",
        "\n",
        "int main()\n",
        "{\n",
        "  // starting the timer \n",
        "\tstart_time = omp_get_wtime();\n",
        "  //index of first element\n",
        "\tint first = -1;\t\n",
        "  //index of next insertion\n",
        "\tint last = 0;\t\n",
        "  //count of nodes in the graph\n",
        "\tint n_nodes =  N;\n",
        "  //initially mark all the nodes ad unvisited in the graph \n",
        "\tfor(int i=0; i<n_nodes; i++)\n",
        "\t{\n",
        "\t\tvisited[i] = 0;\n",
        "\t}\n",
        "\t//shows graph connections\n",
        "\tint adj_matrix[N][N] =\n",
        "{{0, 1, 0, 1, 1, 1, 1, 0, 0, 0, 0, 0, 0, 0, 0},\n",
        "{1, 0, 1, 0, 1, 0, 1, 0, 0, 0, 0, 0, 0, 0, 0} ,\n",
        "{0, 1, 0, 0, 1, 1, 1, 0, 0, 0, 0, 0, 0, 0, 0},\n",
        "{1, 0, 0, 0, 0, 1, 1, 1, 0, 0, 1, 0, 0, 0, 0} ,\n",
        "{1, 1, 1, 0, 0, 0, 0, 0, 1, 1, 1, 0, 0, 0, 0},\n",
        "{1, 0, 1, 1, 0, 0, 1, 0, 1, 1, 1, 0, 0, 0, 0},\n",
        "{1, 1, 1, 1, 0, 1, 0, 1, 0, 1, 1, 0, 0, 0, 0},\n",
        "{0, 0, 0, 1, 0, 0, 1, 0, 0, 0, 1, 1, 0, 0, 0} ,\n",
        "{0, 0, 0, 0, 1, 1, 0, 0, 0, 1, 0, 0, 1, 1, 1},\n",
        "{0, 0, 0, 0, 1, 1, 1, 0, 1, 0, 1, 0, 1, 1, 0} ,\n",
        "{0, 0, 0, 1, 1, 1, 1, 1, 0, 1, 0, 0, 0, 0, 1},\n",
        "{0, 0, 0, 0, 0, 0, 0, 1, 0, 0, 0, 0, 0, 0, 1} ,\n",
        "{0, 0, 0, 0, 0, 0, 0, 0, 1, 1, 0, 0, 0, 0, 0},\n",
        "{0, 0, 0, 0, 0, 0, 0, 0, 1, 1, 0, 0, 0, 0, 1} ,\n",
        "{0, 0, 0, 0, 0, 0, 0, 0, 1, 0, 1, 1, 0, 1, 0}};\n",
        "\n",
        "\n",
        "\n",
        "\n",
        "//set start node from 0 to N-1\n",
        "\tint start_node = 0;\t\n",
        "\tq[last++] = start_node;\n",
        "\tfirst++;\n",
        "  //keep visited as for starting node \n",
        "\tvisited[start_node] = 1;\n",
        "\t\n",
        "  //current node;\n",
        "\tint cur_node;\n",
        "  //call bfs() function \n",
        "\tbfs(adj_matrix, first, last, q, n_nodes);\n",
        "\t// ending the timer \n",
        "\tend_time = omp_get_wtime();\n",
        "\n",
        "//printing the time taken for execution\n",
        "\tprintf(\"Time taken for exploring %d vertices in the graph :%f  seconds\",N,end_time-start_time);\n",
        "\n",
        "\treturn 0;\n",
        "}\n",
        "\"\"\"\n"
      ]
    },
    {
      "cell_type": "markdown",
      "source": [
        "Store the above code in a file"
      ],
      "metadata": {
        "id": "1L8AbxiaOrN1"
      }
    },
    {
      "cell_type": "code",
      "source": [
        "text_file = open(\"code.c\", \"w\")\n",
        "text_file.write(code)\n",
        "text_file.close()\n"
      ],
      "metadata": {
        "id": "ONA-QPgeOp2K"
      },
      "execution_count": null,
      "outputs": []
    },
    {
      "cell_type": "markdown",
      "source": [
        "Compile the OpenMP code using GCC"
      ],
      "metadata": {
        "id": "dDtx3dLxPOaq"
      }
    },
    {
      "cell_type": "code",
      "source": [
        "!gcc -fopenmp code.c\n",
        "!./a.out"
      ],
      "metadata": {
        "id": "Lzmf2g2MPO3h"
      },
      "execution_count": null,
      "outputs": []
    }
  ]
}